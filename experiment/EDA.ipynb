{
  "cells": [
    {
      "cell_type": "code",
      "execution_count": null,
      "id": "30d38388-e893-4322-bfff-5755d6729bf4",
      "metadata": {
        "id": "30d38388-e893-4322-bfff-5755d6729bf4"
      },
      "outputs": [],
      "source": [
        "import pandas as pd\n",
        "import numpy as np\n",
        "import seaborn as sns\n",
        "import matplotlib.pyplot as plt\n"
      ]
    },
    {
      "cell_type": "code",
      "execution_count": null,
      "id": "b828e001-f078-4a5a-be63-25f9aa93a300",
      "metadata": {
        "id": "b828e001-f078-4a5a-be63-25f9aa93a300"
      },
      "outputs": [],
      "source": [
        "df=pd.read_csv('https://raw.githubusercontent.com/sunnysavita10/credit_card_pw_hindi/main/creditCardFraud_28011964_120214.csv')"
      ]
    },
    {
      "cell_type": "code",
      "execution_count": null,
      "id": "1e433d4c-b2bd-46aa-9b5c-0f4f6428d19e",
      "metadata": {
        "colab": {
          "base_uri": "https://localhost:8080/",
          "height": 308
        },
        "id": "1e433d4c-b2bd-46aa-9b5c-0f4f6428d19e",
        "outputId": "12ad5f69-3b7b-4179-e8b3-56794d91dc4f"
      },
      "outputs": [
        {
          "output_type": "execute_result",
          "data": {
            "text/plain": [
              "   LIMIT_BAL  SEX  EDUCATION  MARRIAGE  AGE  PAY_0  PAY_2  PAY_3  PAY_4  \\\n",
              "0      50000    1          2         1   57     -1      0     -1      0   \n",
              "1      50000    1          1         2   37      0      0      0      0   \n",
              "2     500000    1          1         2   29      0      0      0      0   \n",
              "3     100000    2          2         2   23      0     -1     -1      0   \n",
              "4     140000    2          3         1   28      0      0      2      0   \n",
              "\n",
              "   PAY_5  ...  BILL_AMT4  BILL_AMT5  BILL_AMT6  PAY_AMT1  PAY_AMT2  PAY_AMT3  \\\n",
              "0      0  ...      20940      19146      19131      2000     36681     10000   \n",
              "1      0  ...      19394      19619      20024      2500      1815       657   \n",
              "2      0  ...     542653     483003     473944     55000     40000     38000   \n",
              "3      0  ...        221       -159        567       380       601         0   \n",
              "4      0  ...      12211      11793       3719      3329         0       432   \n",
              "\n",
              "   PAY_AMT4  PAY_AMT5  PAY_AMT6  default payment next month  \n",
              "0      9000       689       679                           0  \n",
              "1      1000      1000       800                           0  \n",
              "2     20239     13750     13770                           0  \n",
              "3       581      1687      1542                           0  \n",
              "4      1000      1000      1000                           0  \n",
              "\n",
              "[5 rows x 24 columns]"
            ],
            "text/html": [
              "\n",
              "  <div id=\"df-2f474a95-cdbb-4c3a-b6a4-8c3f1474e299\" class=\"colab-df-container\">\n",
              "    <div>\n",
              "<style scoped>\n",
              "    .dataframe tbody tr th:only-of-type {\n",
              "        vertical-align: middle;\n",
              "    }\n",
              "\n",
              "    .dataframe tbody tr th {\n",
              "        vertical-align: top;\n",
              "    }\n",
              "\n",
              "    .dataframe thead th {\n",
              "        text-align: right;\n",
              "    }\n",
              "</style>\n",
              "<table border=\"1\" class=\"dataframe\">\n",
              "  <thead>\n",
              "    <tr style=\"text-align: right;\">\n",
              "      <th></th>\n",
              "      <th>LIMIT_BAL</th>\n",
              "      <th>SEX</th>\n",
              "      <th>EDUCATION</th>\n",
              "      <th>MARRIAGE</th>\n",
              "      <th>AGE</th>\n",
              "      <th>PAY_0</th>\n",
              "      <th>PAY_2</th>\n",
              "      <th>PAY_3</th>\n",
              "      <th>PAY_4</th>\n",
              "      <th>PAY_5</th>\n",
              "      <th>...</th>\n",
              "      <th>BILL_AMT4</th>\n",
              "      <th>BILL_AMT5</th>\n",
              "      <th>BILL_AMT6</th>\n",
              "      <th>PAY_AMT1</th>\n",
              "      <th>PAY_AMT2</th>\n",
              "      <th>PAY_AMT3</th>\n",
              "      <th>PAY_AMT4</th>\n",
              "      <th>PAY_AMT5</th>\n",
              "      <th>PAY_AMT6</th>\n",
              "      <th>default payment next month</th>\n",
              "    </tr>\n",
              "  </thead>\n",
              "  <tbody>\n",
              "    <tr>\n",
              "      <th>0</th>\n",
              "      <td>50000</td>\n",
              "      <td>1</td>\n",
              "      <td>2</td>\n",
              "      <td>1</td>\n",
              "      <td>57</td>\n",
              "      <td>-1</td>\n",
              "      <td>0</td>\n",
              "      <td>-1</td>\n",
              "      <td>0</td>\n",
              "      <td>0</td>\n",
              "      <td>...</td>\n",
              "      <td>20940</td>\n",
              "      <td>19146</td>\n",
              "      <td>19131</td>\n",
              "      <td>2000</td>\n",
              "      <td>36681</td>\n",
              "      <td>10000</td>\n",
              "      <td>9000</td>\n",
              "      <td>689</td>\n",
              "      <td>679</td>\n",
              "      <td>0</td>\n",
              "    </tr>\n",
              "    <tr>\n",
              "      <th>1</th>\n",
              "      <td>50000</td>\n",
              "      <td>1</td>\n",
              "      <td>1</td>\n",
              "      <td>2</td>\n",
              "      <td>37</td>\n",
              "      <td>0</td>\n",
              "      <td>0</td>\n",
              "      <td>0</td>\n",
              "      <td>0</td>\n",
              "      <td>0</td>\n",
              "      <td>...</td>\n",
              "      <td>19394</td>\n",
              "      <td>19619</td>\n",
              "      <td>20024</td>\n",
              "      <td>2500</td>\n",
              "      <td>1815</td>\n",
              "      <td>657</td>\n",
              "      <td>1000</td>\n",
              "      <td>1000</td>\n",
              "      <td>800</td>\n",
              "      <td>0</td>\n",
              "    </tr>\n",
              "    <tr>\n",
              "      <th>2</th>\n",
              "      <td>500000</td>\n",
              "      <td>1</td>\n",
              "      <td>1</td>\n",
              "      <td>2</td>\n",
              "      <td>29</td>\n",
              "      <td>0</td>\n",
              "      <td>0</td>\n",
              "      <td>0</td>\n",
              "      <td>0</td>\n",
              "      <td>0</td>\n",
              "      <td>...</td>\n",
              "      <td>542653</td>\n",
              "      <td>483003</td>\n",
              "      <td>473944</td>\n",
              "      <td>55000</td>\n",
              "      <td>40000</td>\n",
              "      <td>38000</td>\n",
              "      <td>20239</td>\n",
              "      <td>13750</td>\n",
              "      <td>13770</td>\n",
              "      <td>0</td>\n",
              "    </tr>\n",
              "    <tr>\n",
              "      <th>3</th>\n",
              "      <td>100000</td>\n",
              "      <td>2</td>\n",
              "      <td>2</td>\n",
              "      <td>2</td>\n",
              "      <td>23</td>\n",
              "      <td>0</td>\n",
              "      <td>-1</td>\n",
              "      <td>-1</td>\n",
              "      <td>0</td>\n",
              "      <td>0</td>\n",
              "      <td>...</td>\n",
              "      <td>221</td>\n",
              "      <td>-159</td>\n",
              "      <td>567</td>\n",
              "      <td>380</td>\n",
              "      <td>601</td>\n",
              "      <td>0</td>\n",
              "      <td>581</td>\n",
              "      <td>1687</td>\n",
              "      <td>1542</td>\n",
              "      <td>0</td>\n",
              "    </tr>\n",
              "    <tr>\n",
              "      <th>4</th>\n",
              "      <td>140000</td>\n",
              "      <td>2</td>\n",
              "      <td>3</td>\n",
              "      <td>1</td>\n",
              "      <td>28</td>\n",
              "      <td>0</td>\n",
              "      <td>0</td>\n",
              "      <td>2</td>\n",
              "      <td>0</td>\n",
              "      <td>0</td>\n",
              "      <td>...</td>\n",
              "      <td>12211</td>\n",
              "      <td>11793</td>\n",
              "      <td>3719</td>\n",
              "      <td>3329</td>\n",
              "      <td>0</td>\n",
              "      <td>432</td>\n",
              "      <td>1000</td>\n",
              "      <td>1000</td>\n",
              "      <td>1000</td>\n",
              "      <td>0</td>\n",
              "    </tr>\n",
              "  </tbody>\n",
              "</table>\n",
              "<p>5 rows × 24 columns</p>\n",
              "</div>\n",
              "    <div class=\"colab-df-buttons\">\n",
              "\n",
              "  <div class=\"colab-df-container\">\n",
              "    <button class=\"colab-df-convert\" onclick=\"convertToInteractive('df-2f474a95-cdbb-4c3a-b6a4-8c3f1474e299')\"\n",
              "            title=\"Convert this dataframe to an interactive table.\"\n",
              "            style=\"display:none;\">\n",
              "\n",
              "  <svg xmlns=\"http://www.w3.org/2000/svg\" height=\"24px\" viewBox=\"0 -960 960 960\">\n",
              "    <path d=\"M120-120v-720h720v720H120Zm60-500h600v-160H180v160Zm220 220h160v-160H400v160Zm0 220h160v-160H400v160ZM180-400h160v-160H180v160Zm440 0h160v-160H620v160ZM180-180h160v-160H180v160Zm440 0h160v-160H620v160Z\"/>\n",
              "  </svg>\n",
              "    </button>\n",
              "\n",
              "  <style>\n",
              "    .colab-df-container {\n",
              "      display:flex;\n",
              "      gap: 12px;\n",
              "    }\n",
              "\n",
              "    .colab-df-convert {\n",
              "      background-color: #E8F0FE;\n",
              "      border: none;\n",
              "      border-radius: 50%;\n",
              "      cursor: pointer;\n",
              "      display: none;\n",
              "      fill: #1967D2;\n",
              "      height: 32px;\n",
              "      padding: 0 0 0 0;\n",
              "      width: 32px;\n",
              "    }\n",
              "\n",
              "    .colab-df-convert:hover {\n",
              "      background-color: #E2EBFA;\n",
              "      box-shadow: 0px 1px 2px rgba(60, 64, 67, 0.3), 0px 1px 3px 1px rgba(60, 64, 67, 0.15);\n",
              "      fill: #174EA6;\n",
              "    }\n",
              "\n",
              "    .colab-df-buttons div {\n",
              "      margin-bottom: 4px;\n",
              "    }\n",
              "\n",
              "    [theme=dark] .colab-df-convert {\n",
              "      background-color: #3B4455;\n",
              "      fill: #D2E3FC;\n",
              "    }\n",
              "\n",
              "    [theme=dark] .colab-df-convert:hover {\n",
              "      background-color: #434B5C;\n",
              "      box-shadow: 0px 1px 3px 1px rgba(0, 0, 0, 0.15);\n",
              "      filter: drop-shadow(0px 1px 2px rgba(0, 0, 0, 0.3));\n",
              "      fill: #FFFFFF;\n",
              "    }\n",
              "  </style>\n",
              "\n",
              "    <script>\n",
              "      const buttonEl =\n",
              "        document.querySelector('#df-2f474a95-cdbb-4c3a-b6a4-8c3f1474e299 button.colab-df-convert');\n",
              "      buttonEl.style.display =\n",
              "        google.colab.kernel.accessAllowed ? 'block' : 'none';\n",
              "\n",
              "      async function convertToInteractive(key) {\n",
              "        const element = document.querySelector('#df-2f474a95-cdbb-4c3a-b6a4-8c3f1474e299');\n",
              "        const dataTable =\n",
              "          await google.colab.kernel.invokeFunction('convertToInteractive',\n",
              "                                                    [key], {});\n",
              "        if (!dataTable) return;\n",
              "\n",
              "        const docLinkHtml = 'Like what you see? Visit the ' +\n",
              "          '<a target=\"_blank\" href=https://colab.research.google.com/notebooks/data_table.ipynb>data table notebook</a>'\n",
              "          + ' to learn more about interactive tables.';\n",
              "        element.innerHTML = '';\n",
              "        dataTable['output_type'] = 'display_data';\n",
              "        await google.colab.output.renderOutput(dataTable, element);\n",
              "        const docLink = document.createElement('div');\n",
              "        docLink.innerHTML = docLinkHtml;\n",
              "        element.appendChild(docLink);\n",
              "      }\n",
              "    </script>\n",
              "  </div>\n",
              "\n",
              "\n",
              "<div id=\"df-2a06cb74-8e95-4043-a127-b6b48e013533\">\n",
              "  <button class=\"colab-df-quickchart\" onclick=\"quickchart('df-2a06cb74-8e95-4043-a127-b6b48e013533')\"\n",
              "            title=\"Suggest charts\"\n",
              "            style=\"display:none;\">\n",
              "\n",
              "<svg xmlns=\"http://www.w3.org/2000/svg\" height=\"24px\"viewBox=\"0 0 24 24\"\n",
              "     width=\"24px\">\n",
              "    <g>\n",
              "        <path d=\"M19 3H5c-1.1 0-2 .9-2 2v14c0 1.1.9 2 2 2h14c1.1 0 2-.9 2-2V5c0-1.1-.9-2-2-2zM9 17H7v-7h2v7zm4 0h-2V7h2v10zm4 0h-2v-4h2v4z\"/>\n",
              "    </g>\n",
              "</svg>\n",
              "  </button>\n",
              "\n",
              "<style>\n",
              "  .colab-df-quickchart {\n",
              "      --bg-color: #E8F0FE;\n",
              "      --fill-color: #1967D2;\n",
              "      --hover-bg-color: #E2EBFA;\n",
              "      --hover-fill-color: #174EA6;\n",
              "      --disabled-fill-color: #AAA;\n",
              "      --disabled-bg-color: #DDD;\n",
              "  }\n",
              "\n",
              "  [theme=dark] .colab-df-quickchart {\n",
              "      --bg-color: #3B4455;\n",
              "      --fill-color: #D2E3FC;\n",
              "      --hover-bg-color: #434B5C;\n",
              "      --hover-fill-color: #FFFFFF;\n",
              "      --disabled-bg-color: #3B4455;\n",
              "      --disabled-fill-color: #666;\n",
              "  }\n",
              "\n",
              "  .colab-df-quickchart {\n",
              "    background-color: var(--bg-color);\n",
              "    border: none;\n",
              "    border-radius: 50%;\n",
              "    cursor: pointer;\n",
              "    display: none;\n",
              "    fill: var(--fill-color);\n",
              "    height: 32px;\n",
              "    padding: 0;\n",
              "    width: 32px;\n",
              "  }\n",
              "\n",
              "  .colab-df-quickchart:hover {\n",
              "    background-color: var(--hover-bg-color);\n",
              "    box-shadow: 0 1px 2px rgba(60, 64, 67, 0.3), 0 1px 3px 1px rgba(60, 64, 67, 0.15);\n",
              "    fill: var(--button-hover-fill-color);\n",
              "  }\n",
              "\n",
              "  .colab-df-quickchart-complete:disabled,\n",
              "  .colab-df-quickchart-complete:disabled:hover {\n",
              "    background-color: var(--disabled-bg-color);\n",
              "    fill: var(--disabled-fill-color);\n",
              "    box-shadow: none;\n",
              "  }\n",
              "\n",
              "  .colab-df-spinner {\n",
              "    border: 2px solid var(--fill-color);\n",
              "    border-color: transparent;\n",
              "    border-bottom-color: var(--fill-color);\n",
              "    animation:\n",
              "      spin 1s steps(1) infinite;\n",
              "  }\n",
              "\n",
              "  @keyframes spin {\n",
              "    0% {\n",
              "      border-color: transparent;\n",
              "      border-bottom-color: var(--fill-color);\n",
              "      border-left-color: var(--fill-color);\n",
              "    }\n",
              "    20% {\n",
              "      border-color: transparent;\n",
              "      border-left-color: var(--fill-color);\n",
              "      border-top-color: var(--fill-color);\n",
              "    }\n",
              "    30% {\n",
              "      border-color: transparent;\n",
              "      border-left-color: var(--fill-color);\n",
              "      border-top-color: var(--fill-color);\n",
              "      border-right-color: var(--fill-color);\n",
              "    }\n",
              "    40% {\n",
              "      border-color: transparent;\n",
              "      border-right-color: var(--fill-color);\n",
              "      border-top-color: var(--fill-color);\n",
              "    }\n",
              "    60% {\n",
              "      border-color: transparent;\n",
              "      border-right-color: var(--fill-color);\n",
              "    }\n",
              "    80% {\n",
              "      border-color: transparent;\n",
              "      border-right-color: var(--fill-color);\n",
              "      border-bottom-color: var(--fill-color);\n",
              "    }\n",
              "    90% {\n",
              "      border-color: transparent;\n",
              "      border-bottom-color: var(--fill-color);\n",
              "    }\n",
              "  }\n",
              "</style>\n",
              "\n",
              "  <script>\n",
              "    async function quickchart(key) {\n",
              "      const quickchartButtonEl =\n",
              "        document.querySelector('#' + key + ' button');\n",
              "      quickchartButtonEl.disabled = true;  // To prevent multiple clicks.\n",
              "      quickchartButtonEl.classList.add('colab-df-spinner');\n",
              "      try {\n",
              "        const charts = await google.colab.kernel.invokeFunction(\n",
              "            'suggestCharts', [key], {});\n",
              "      } catch (error) {\n",
              "        console.error('Error during call to suggestCharts:', error);\n",
              "      }\n",
              "      quickchartButtonEl.classList.remove('colab-df-spinner');\n",
              "      quickchartButtonEl.classList.add('colab-df-quickchart-complete');\n",
              "    }\n",
              "    (() => {\n",
              "      let quickchartButtonEl =\n",
              "        document.querySelector('#df-2a06cb74-8e95-4043-a127-b6b48e013533 button');\n",
              "      quickchartButtonEl.style.display =\n",
              "        google.colab.kernel.accessAllowed ? 'block' : 'none';\n",
              "    })();\n",
              "  </script>\n",
              "</div>\n",
              "\n",
              "    </div>\n",
              "  </div>\n"
            ],
            "application/vnd.google.colaboratory.intrinsic+json": {
              "type": "dataframe",
              "variable_name": "df"
            }
          },
          "metadata": {},
          "execution_count": 3
        }
      ],
      "source": [
        "df.head()"
      ]
    },
    {
      "cell_type": "code",
      "execution_count": null,
      "id": "d896c426-9f29-495d-a2a9-771e69341e3a",
      "metadata": {
        "colab": {
          "base_uri": "https://localhost:8080/"
        },
        "id": "d896c426-9f29-495d-a2a9-771e69341e3a",
        "outputId": "2566d05c-5a92-4eb6-8507-01cea517d8bc"
      },
      "outputs": [
        {
          "output_type": "execute_result",
          "data": {
            "text/plain": [
              "0    787\n",
              "1    214\n",
              "Name: default payment next month, dtype: int64"
            ]
          },
          "metadata": {},
          "execution_count": 4
        }
      ],
      "source": [
        "df['default payment next month'].value_counts()"
      ]
    },
    {
      "cell_type": "code",
      "execution_count": null,
      "id": "6c04fed4-b350-4c48-8666-b538c2ff7d25",
      "metadata": {
        "id": "6c04fed4-b350-4c48-8666-b538c2ff7d25"
      },
      "outputs": [],
      "source": [
        "from sklearn.utils import resample\n",
        "minor=df[df['default payment next month']==1]\n",
        "mejor=df[df['default payment next month']==0]\n",
        "\n",
        "upsample_minor=resample(minor,n_samples=500,replace=True,random_state=0)"
      ]
    },
    {
      "cell_type": "code",
      "execution_count": null,
      "id": "f71eb0fb-d640-41bf-a195-a283621fd57d",
      "metadata": {
        "colab": {
          "base_uri": "https://localhost:8080/"
        },
        "id": "f71eb0fb-d640-41bf-a195-a283621fd57d",
        "outputId": "b2e79bb7-83ca-4d65-f678-cd493706f754"
      },
      "outputs": [
        {
          "output_type": "execute_result",
          "data": {
            "text/plain": [
              "1    500\n",
              "Name: default payment next month, dtype: int64"
            ]
          },
          "metadata": {},
          "execution_count": 6
        }
      ],
      "source": [
        "upsample_minor['default payment next month'].value_counts()"
      ]
    },
    {
      "cell_type": "code",
      "execution_count": null,
      "id": "b4f0cd47-67ff-432c-b58c-d89f90ef6756",
      "metadata": {
        "id": "b4f0cd47-67ff-432c-b58c-d89f90ef6756"
      },
      "outputs": [],
      "source": [
        "df=pd.concat([df,upsample_minor])"
      ]
    },
    {
      "cell_type": "code",
      "execution_count": null,
      "id": "add2a870-9955-4757-8f2d-8e1aae92ea93",
      "metadata": {
        "colab": {
          "base_uri": "https://localhost:8080/"
        },
        "id": "add2a870-9955-4757-8f2d-8e1aae92ea93",
        "outputId": "4da329a8-34ff-4cd5-823f-a2a586216699"
      },
      "outputs": [
        {
          "output_type": "execute_result",
          "data": {
            "text/plain": [
              "Index(['LIMIT_BAL', 'SEX', 'EDUCATION', 'MARRIAGE', 'AGE', 'PAY_0', 'PAY_2',\n",
              "       'PAY_3', 'PAY_4', 'PAY_5', 'PAY_6', 'BILL_AMT1', 'BILL_AMT2',\n",
              "       'BILL_AMT3', 'BILL_AMT4', 'BILL_AMT5', 'BILL_AMT6', 'PAY_AMT1',\n",
              "       'PAY_AMT2', 'PAY_AMT3', 'PAY_AMT4', 'PAY_AMT5', 'PAY_AMT6',\n",
              "       'default payment next month'],\n",
              "      dtype='object')"
            ]
          },
          "metadata": {},
          "execution_count": 8
        }
      ],
      "source": [
        "df.columns"
      ]
    },
    {
      "cell_type": "code",
      "execution_count": null,
      "id": "16a7750e-a551-47c5-932a-ff13550cee87",
      "metadata": {
        "colab": {
          "base_uri": "https://localhost:8080/"
        },
        "id": "16a7750e-a551-47c5-932a-ff13550cee87",
        "outputId": "9777a467-f7f8-4e33-8d36-7075194d8c06"
      },
      "outputs": [
        {
          "output_type": "stream",
          "name": "stdout",
          "text": [
            "<class 'pandas.core.frame.DataFrame'>\n",
            "Int64Index: 1501 entries, 0 to 528\n",
            "Data columns (total 24 columns):\n",
            " #   Column                      Non-Null Count  Dtype\n",
            "---  ------                      --------------  -----\n",
            " 0   LIMIT_BAL                   1501 non-null   int64\n",
            " 1   SEX                         1501 non-null   int64\n",
            " 2   EDUCATION                   1501 non-null   int64\n",
            " 3   MARRIAGE                    1501 non-null   int64\n",
            " 4   AGE                         1501 non-null   int64\n",
            " 5   PAY_0                       1501 non-null   int64\n",
            " 6   PAY_2                       1501 non-null   int64\n",
            " 7   PAY_3                       1501 non-null   int64\n",
            " 8   PAY_4                       1501 non-null   int64\n",
            " 9   PAY_5                       1501 non-null   int64\n",
            " 10  PAY_6                       1501 non-null   int64\n",
            " 11  BILL_AMT1                   1501 non-null   int64\n",
            " 12  BILL_AMT2                   1501 non-null   int64\n",
            " 13  BILL_AMT3                   1501 non-null   int64\n",
            " 14  BILL_AMT4                   1501 non-null   int64\n",
            " 15  BILL_AMT5                   1501 non-null   int64\n",
            " 16  BILL_AMT6                   1501 non-null   int64\n",
            " 17  PAY_AMT1                    1501 non-null   int64\n",
            " 18  PAY_AMT2                    1501 non-null   int64\n",
            " 19  PAY_AMT3                    1501 non-null   int64\n",
            " 20  PAY_AMT4                    1501 non-null   int64\n",
            " 21  PAY_AMT5                    1501 non-null   int64\n",
            " 22  PAY_AMT6                    1501 non-null   int64\n",
            " 23  default payment next month  1501 non-null   int64\n",
            "dtypes: int64(24)\n",
            "memory usage: 293.2 KB\n"
          ]
        }
      ],
      "source": [
        "df.info()"
      ]
    },
    {
      "cell_type": "code",
      "execution_count": null,
      "id": "8e1e0265-99d2-457c-9ca5-9f44b15f098c",
      "metadata": {
        "colab": {
          "base_uri": "https://localhost:8080/"
        },
        "id": "8e1e0265-99d2-457c-9ca5-9f44b15f098c",
        "outputId": "67ca1644-bdde-4cef-ebb9-beb000b03aa9"
      },
      "outputs": [
        {
          "output_type": "execute_result",
          "data": {
            "text/plain": [
              "LIMIT_BAL                     0\n",
              "SEX                           0\n",
              "EDUCATION                     0\n",
              "MARRIAGE                      0\n",
              "AGE                           0\n",
              "PAY_0                         0\n",
              "PAY_2                         0\n",
              "PAY_3                         0\n",
              "PAY_4                         0\n",
              "PAY_5                         0\n",
              "PAY_6                         0\n",
              "BILL_AMT1                     0\n",
              "BILL_AMT2                     0\n",
              "BILL_AMT3                     0\n",
              "BILL_AMT4                     0\n",
              "BILL_AMT5                     0\n",
              "BILL_AMT6                     0\n",
              "PAY_AMT1                      0\n",
              "PAY_AMT2                      0\n",
              "PAY_AMT3                      0\n",
              "PAY_AMT4                      0\n",
              "PAY_AMT5                      0\n",
              "PAY_AMT6                      0\n",
              "default payment next month    0\n",
              "dtype: int64"
            ]
          },
          "metadata": {},
          "execution_count": 10
        }
      ],
      "source": [
        "df.isnull().sum()"
      ]
    },
    {
      "cell_type": "code",
      "execution_count": null,
      "id": "68c895a5-ffda-4368-8e4f-66f9e07469e7",
      "metadata": {
        "id": "68c895a5-ffda-4368-8e4f-66f9e07469e7"
      },
      "outputs": [],
      "source": [
        "df.drop(['LIMIT_BAL', 'SEX', 'EDUCATION', 'MARRIAGE', 'AGE'],axis=1,inplace=True)"
      ]
    },
    {
      "cell_type": "code",
      "execution_count": null,
      "id": "dc839171-bb06-4dd2-9b78-4c90a995edca",
      "metadata": {
        "colab": {
          "base_uri": "https://localhost:8080/"
        },
        "id": "dc839171-bb06-4dd2-9b78-4c90a995edca",
        "outputId": "12820cde-f7a7-4c93-9a95-9433e322da42"
      },
      "outputs": [
        {
          "output_type": "execute_result",
          "data": {
            "text/plain": [
              "0    787\n",
              "1    714\n",
              "Name: default payment next month, dtype: int64"
            ]
          },
          "metadata": {},
          "execution_count": 12
        }
      ],
      "source": [
        "df['default payment next month'].value_counts()"
      ]
    },
    {
      "cell_type": "code",
      "execution_count": null,
      "id": "7d972af6-be8a-48d5-9313-7d63edbb436e",
      "metadata": {
        "id": "7d972af6-be8a-48d5-9313-7d63edbb436e"
      },
      "outputs": [],
      "source": [
        "# # let's have a look at the distribution first 50 sensors of Wafers\n",
        "\n",
        "# plt.figure(figsize=(15, 100))\n",
        "\n",
        "# for i, col in enumerate(df.columns[1:51]):\n",
        "#     plt.subplot(60, 3, i+1)\n",
        "#     sns.distplot(x=df[col], color='indianred')\n",
        "#     plt.xlabel(col, weight='bold')\n",
        "#     plt.tight_layout()"
      ]
    },
    {
      "cell_type": "markdown",
      "id": "b7a6671e-7aac-4542-81a8-bb7a73a1b7cf",
      "metadata": {
        "id": "b7a6671e-7aac-4542-81a8-bb7a73a1b7cf"
      },
      "source": [
        "## Feature Enggearing"
      ]
    },
    {
      "cell_type": "code",
      "execution_count": null,
      "id": "afd607fa-d900-4b83-a08d-ede946e74634",
      "metadata": {
        "id": "afd607fa-d900-4b83-a08d-ede946e74634"
      },
      "outputs": [],
      "source": [
        "x=df.iloc[:,:-1]\n",
        "y=df.iloc[:,-1]"
      ]
    },
    {
      "cell_type": "code",
      "execution_count": null,
      "id": "b1bfe3c3-d7e9-44f1-be25-28ea0010d3cd",
      "metadata": {
        "id": "b1bfe3c3-d7e9-44f1-be25-28ea0010d3cd"
      },
      "outputs": [],
      "source": [
        "from sklearn.model_selection import KFold,train_test_split\n",
        "kf=KFold(n_splits=5,shuffle=True,random_state=42)\n"
      ]
    },
    {
      "cell_type": "code",
      "execution_count": null,
      "id": "8c4a9586-903b-4f0f-a908-1fa6502a7a0e",
      "metadata": {
        "id": "8c4a9586-903b-4f0f-a908-1fa6502a7a0e"
      },
      "outputs": [],
      "source": [
        "x_train,x_test,y_train,y_test=train_test_split(x,y,test_size=0.25,random_state=0)"
      ]
    },
    {
      "cell_type": "code",
      "execution_count": null,
      "id": "84ca2fa8-aa86-4609-9801-68d47131d3ef",
      "metadata": {
        "id": "84ca2fa8-aa86-4609-9801-68d47131d3ef"
      },
      "outputs": [],
      "source": [
        "from sklearn.impute import KNNImputer\n",
        "from sklearn.preprocessing import RobustScaler"
      ]
    },
    {
      "cell_type": "code",
      "execution_count": null,
      "id": "8a6b7f37-83eb-4a1f-9e81-90b933bd52f5",
      "metadata": {
        "id": "8a6b7f37-83eb-4a1f-9e81-90b933bd52f5"
      },
      "outputs": [],
      "source": [
        "from sklearn.pipeline import Pipeline"
      ]
    },
    {
      "cell_type": "code",
      "execution_count": null,
      "id": "51b940c8-55af-4add-a387-7fb64176dbe4",
      "metadata": {
        "id": "51b940c8-55af-4add-a387-7fb64176dbe4"
      },
      "outputs": [],
      "source": [
        "preprocess=Pipeline(\n",
        "    steps=[\n",
        "        ('impute',KNNImputer(n_neighbors=8,missing_values=np.nan)),\n",
        "        ('scaler',RobustScaler())\n",
        "    ]\n",
        ")"
      ]
    },
    {
      "cell_type": "code",
      "execution_count": null,
      "id": "1aabebb9-e57d-4698-a371-23a7665891d2",
      "metadata": {
        "id": "1aabebb9-e57d-4698-a371-23a7665891d2"
      },
      "outputs": [],
      "source": [
        "x_train_sc=preprocess.fit_transform(x_train)\n",
        "x_test_sc=preprocess.transform(x_test)"
      ]
    },
    {
      "cell_type": "code",
      "execution_count": null,
      "id": "937d4de5-7952-4e54-abb2-317bcb73b196",
      "metadata": {
        "id": "937d4de5-7952-4e54-abb2-317bcb73b196"
      },
      "outputs": [],
      "source": [
        "from sklearn.ensemble import RandomForestClassifier\n",
        "from sklearn.svm import SVC\n",
        "from sklearn.neighbors import KNeighborsClassifier\n",
        "from sklearn.linear_model import LogisticRegression\n",
        "from sklearn.ensemble import AdaBoostClassifier,BaggingRegressor,GradientBoostingClassifier\n",
        "from sklearn.naive_bayes import GaussianNB\n",
        "from sklearn.metrics import accuracy_score\n",
        "from sklearn.tree import DecisionTreeClassifier"
      ]
    },
    {
      "cell_type": "code",
      "execution_count": null,
      "id": "834f5f4d-b1ba-41be-bae7-58bfb65b4ab5",
      "metadata": {
        "id": "834f5f4d-b1ba-41be-bae7-58bfb65b4ab5"
      },
      "outputs": [],
      "source": [
        "models = {\n",
        "    'Random Forest': RandomForestClassifier(),\n",
        "    'SVM': SVC(),\n",
        "    'K-Nearest Neighbors': KNeighborsClassifier(),\n",
        "    'Logistic Regression': LogisticRegression(),\n",
        "    'Adaboost': AdaBoostClassifier(),\n",
        "    'gradient boost': GradientBoostingClassifier(),\n",
        "    'Gaussian': GaussianNB(),\n",
        "    'Desision Tree':DecisionTreeClassifier()\n",
        "}"
      ]
    },
    {
      "cell_type": "code",
      "execution_count": null,
      "id": "5b904e64-a26a-4be3-bed4-1909e55f2617",
      "metadata": {
        "editable": true,
        "tags": [],
        "colab": {
          "base_uri": "https://localhost:8080/"
        },
        "id": "5b904e64-a26a-4be3-bed4-1909e55f2617",
        "outputId": "35fd84b4-ec65-4190-f005-9c600ad445f9"
      },
      "outputs": [
        {
          "output_type": "stream",
          "name": "stdout",
          "text": [
            "Model name: Random Forest\n",
            "Accuracy of the model: 89.09574468085107\n",
            "=======================================\n",
            "Model name: SVM\n",
            "Accuracy of the model: 64.36170212765957\n",
            "=======================================\n",
            "Model name: K-Nearest Neighbors\n",
            "Accuracy of the model: 67.5531914893617\n",
            "=======================================\n",
            "Model name: Logistic Regression\n",
            "Accuracy of the model: 68.35106382978722\n",
            "=======================================\n",
            "Model name: Adaboost\n",
            "Accuracy of the model: 73.93617021276596\n",
            "=======================================\n",
            "Model name: gradient boost\n",
            "Accuracy of the model: 78.98936170212765\n",
            "=======================================\n",
            "Model name: Gaussian\n",
            "Accuracy of the model: 59.308510638297875\n",
            "=======================================\n",
            "Model name: Desision Tree\n",
            "Accuracy of the model: 81.64893617021278\n",
            "=======================================\n"
          ]
        }
      ],
      "source": [
        "from sklearn.metrics import accuracy_score\n",
        "\n",
        "for i in range(len(models)):\n",
        "    model = list(models.values())[i]\n",
        "\n",
        "    model.fit(x_train_sc, y_train)\n",
        "    y_pred = model.predict(x_test_sc)\n",
        "    Accuracy_model = accuracy_score(y_test, y_pred) * 100\n",
        "\n",
        "    print(f\"Model name: {list(models.keys())[i]}\")\n",
        "    print(f'Accuracy of the model: {Accuracy_model}')\n",
        "\n",
        "    print('=======================================')"
      ]
    },
    {
      "cell_type": "code",
      "execution_count": null,
      "id": "4ed7db11-e37b-4bd3-9367-8f242b124263",
      "metadata": {
        "id": "4ed7db11-e37b-4bd3-9367-8f242b124263"
      },
      "outputs": [],
      "source": [
        "from sklearn.model_selection import GridSearchCV"
      ]
    },
    {
      "cell_type": "markdown",
      "id": "99a050f9-00f5-485f-a39f-fa3db755e569",
      "metadata": {
        "id": "99a050f9-00f5-485f-a39f-fa3db755e569"
      },
      "source": [
        "## Another way Hyperparameter Tuning"
      ]
    },
    {
      "cell_type": "code",
      "execution_count": null,
      "id": "4ac59803-079c-4f17-85f8-f20114bb2a63",
      "metadata": {
        "colab": {
          "base_uri": "https://localhost:8080/"
        },
        "id": "4ac59803-079c-4f17-85f8-f20114bb2a63",
        "outputId": "64af7eb2-04ce-4ee0-a59d-1b78e8b0c8bb"
      },
      "outputs": [
        {
          "output_type": "stream",
          "name": "stdout",
          "text": [
            "\n",
            "Tuning hyperparameters for RandomForest\n",
            "Best Hyperparameters for RandomForest: {'max_depth': None, 'min_samples_leaf': 1, 'min_samples_split': 2, 'n_estimators': 100}\n",
            "Accuracy on Test Set for RandomForest: 0.8909574468085106\n",
            "\n",
            "Tuning hyperparameters for SVM\n"
          ]
        }
      ],
      "source": [
        "classifiers = {\n",
        "    'RandomForest': (RandomForestClassifier(), {\n",
        "        'n_estimators': [50, 100, 200],\n",
        "        'max_depth': [None, 10, 20, 30],\n",
        "        'min_samples_split': [2, 5, 10],\n",
        "        'min_samples_leaf': [1, 2, 4]\n",
        "    }),\n",
        "    'SVM': (SVC(), {\n",
        "        'C': [0.1, 1, 10],\n",
        "        'kernel': ['linear', 'rbf', 'poly'],\n",
        "        'gamma': ['scale', 'auto']\n",
        "    }),\n",
        "    'GradientBoosting': (GradientBoostingClassifier(), {\n",
        "        'learning_rate': [0.01, 0.1, 0.2],\n",
        "        'n_estimators': [50, 100, 200],\n",
        "        'max_depth': [3, 4, 5],\n",
        "        'subsample': [0.8, 1.0]\n",
        "    }),\n",
        "    'KNN':(KNeighborsClassifier(),{\n",
        "        'n_neighbors': [3, 5, 7],\n",
        "        'weights': ['uniform', 'distance'],\n",
        "        'p': [1, 2],\n",
        "        'algorithm': ['auto', 'ball_tree', 'kd_tree', 'brute'],\n",
        "    }),\n",
        "    'Logistic Regrrassion':(LogisticRegression(),{\n",
        "        'penalty': ['l1', 'l2', 'elasticnet', 'none'],\n",
        "        'C': [0.1, 1, 10],\n",
        "        'solver': ['newton-cg', 'lbfgs', 'liblinear', 'sag', 'saga'],\n",
        "        'max_iter': [100, 200, 300],\n",
        "\n",
        "\n",
        "    })\n",
        "\n",
        "}\n",
        "\n",
        "# Perform hyperparameter tuning for each classifier\n",
        "for clf_name, (classifier, param_grid) in classifiers.items():\n",
        "    print(f\"\\nTuning hyperparameters for {clf_name}\")\n",
        "\n",
        "    # Use GridSearchCV to find the best hyperparameters\n",
        "    grid_search = GridSearchCV(estimator=classifier, param_grid=param_grid, cv=3, scoring='accuracy')\n",
        "    grid_search.fit(x_train, y_train)\n",
        "\n",
        "    # Get the best hyperparameters\n",
        "    best_params = grid_search.best_params_\n",
        "    print(f\"Best Hyperparameters for {clf_name}: {best_params}\")\n",
        "\n",
        "    # Predict on the test set using the best model\n",
        "    best_model = grid_search.best_estimator_\n",
        "    y_pred = best_model.predict(x_test)\n",
        "\n",
        "    # Evaluate the model\n",
        "    accuracy = accuracy_score(y_test, y_pred)\n",
        "    print(f\"Accuracy on Test Set for {clf_name}: {accuracy}\")"
      ]
    },
    {
      "cell_type": "code",
      "execution_count": null,
      "id": "19efbbb9-1105-405d-a6d0-eb4a776a9048",
      "metadata": {
        "id": "19efbbb9-1105-405d-a6d0-eb4a776a9048"
      },
      "outputs": [],
      "source": []
    }
  ],
  "metadata": {
    "kernelspec": {
      "display_name": "Python 3",
      "name": "python3"
    },
    "language_info": {
      "codemirror_mode": {
        "name": "ipython",
        "version": 3
      },
      "file_extension": ".py",
      "mimetype": "text/x-python",
      "name": "python",
      "nbconvert_exporter": "python",
      "pygments_lexer": "ipython3",
      "version": "3.10.8"
    },
    "colab": {
      "provenance": [],
      "gpuType": "T4"
    }
  },
  "nbformat": 4,
  "nbformat_minor": 5
}